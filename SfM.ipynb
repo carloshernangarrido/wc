{
 "cells": [
  {
   "cell_type": "markdown",
   "metadata": {},
   "source": [
    "# Structure from motion example using a video"
   ]
  },
  {
   "cell_type": "code",
   "execution_count": 1,
   "metadata": {},
   "outputs": [],
   "source": [
    "# Packages\n",
    "import numpy as np\n",
    "import cv2 as cv"
   ]
  },
  {
   "cell_type": "markdown",
   "metadata": {},
   "source": [
    "## Load video and extract grey-scale images"
   ]
  },
  {
   "cell_type": "code",
   "execution_count": 2,
   "metadata": {},
   "outputs": [],
   "source": [
    "video_file = r\"C:\\Fotos y videos\\test SfM\\video3.mp4\"\n",
    "video = cv.VideoCapture(video_file)\n",
    "\n",
    "delta_t = 100 # ms"
   ]
  },
  {
   "cell_type": "code",
   "execution_count": 3,
   "metadata": {},
   "outputs": [],
   "source": [
    "ret = True\n",
    "current_time_ms = 0\n",
    "\n",
    "images_list = []\n",
    "while ret:\n",
    "    video.set(cv.CAP_PROP_POS_MSEC, current_time_ms)\n",
    "    ret, frame = video.read()\n",
    "    key = cv.waitKey(0)\n",
    "    if key == 27 or ret is False:\n",
    "        break\n",
    "    cv.imshow('press esc to stop', frame)\n",
    "    images_list.append(cv.cvtColor(frame, cv.COLOR_BGR2GRAY))\n",
    "    current_time_ms += delta_t\n",
    "    if len(images_list) == 2:\n",
    "        break\n",
    "\n",
    "cv.destroyAllWindows()"
   ]
  },
  {
   "cell_type": "markdown",
   "metadata": {},
   "source": [
    "### Display loaded images"
   ]
  },
  {
   "cell_type": "code",
   "execution_count": 4,
   "metadata": {},
   "outputs": [],
   "source": [
    "for im in images_list:\n",
    "    cv.imshow('Press Esc to stop', im)\n",
    "    key = cv.waitKey(0)\n",
    "    if key == 27:\n",
    "        break\n",
    "cv.destroyAllWindows()"
   ]
  },
  {
   "cell_type": "markdown",
   "metadata": {},
   "source": [
    "## Extract image descriptors"
   ]
  },
  {
   "cell_type": "code",
   "execution_count": 5,
   "metadata": {},
   "outputs": [],
   "source": [
    "sift = cv.SIFT_create()\n",
    "kps_des_list = []\n",
    "for im in images_list:\n",
    "    kps, descriptors = sift.detectAndCompute(im, None) # No mask\n",
    "    kps_des_list.append({'kps': kps,\n",
    "                         'des': descriptors})\n",
    "    "
   ]
  },
  {
   "cell_type": "markdown",
   "metadata": {},
   "source": [
    "### Display found descriptors"
   ]
  },
  {
   "cell_type": "code",
   "execution_count": 6,
   "metadata": {},
   "outputs": [],
   "source": [
    "for im, des_kps in zip(images_list, kps_des_list):\n",
    "    im = cv.drawKeypoints(im, des_kps['kps'], im)\n",
    "    cv.imshow('Press Esc to stop', im)\n",
    "    key = cv.waitKey(0)\n",
    "    if key == 27:\n",
    "        break\n",
    "cv.destroyAllWindows()"
   ]
  },
  {
   "cell_type": "markdown",
   "metadata": {},
   "source": [
    "## Match found descriptos using k-nearest neighbours"
   ]
  },
  {
   "cell_type": "code",
   "execution_count": 7,
   "metadata": {},
   "outputs": [],
   "source": [
    "# ratio of the nearest to the second nearest neighbour\n",
    "ratio = 0.95\n",
    "\n",
    "n_images = len(images_list)\n",
    "matcher = cv.BFMatcher()\n",
    "\n",
    "matches_list = []\n",
    "\n",
    "for i in range(n_images - 1):\n",
    "    good_matches = []\n",
    "    matches = matcher.knnMatch(kps_des_list[i]['des'], kps_des_list[i+1]['des'], k=2)\n",
    "    for m, n in matches:\n",
    "        if m.distance < ratio*n.distance:\n",
    "            good_matches.append(m)\n",
    "    matches_list.append(good_matches)"
   ]
  },
  {
   "cell_type": "markdown",
   "metadata": {},
   "source": [
    "### display good matches"
   ]
  },
  {
   "cell_type": "code",
   "execution_count": 8,
   "metadata": {},
   "outputs": [],
   "source": [
    "for i, matches in enumerate(matches_list):\n",
    "    im = cv.drawMatches(images_list[i], kps_des_list[i]['kps'], images_list[i+1], kps_des_list[i+1]['kps'], matches, im, \n",
    "                        flags=cv.DrawMatchesFlags_NOT_DRAW_SINGLE_POINTS)\n",
    "    cv.imshow('Press Esc to stop', im)\n",
    "    key = cv.waitKey(0)\n",
    "    if key == 27:\n",
    "        break\n",
    "cv.destroyAllWindows()"
   ]
  },
  {
   "cell_type": "markdown",
   "metadata": {},
   "source": [
    "## Essential matrices estimation using RANSAC"
   ]
  },
  {
   "cell_type": "code",
   "execution_count": 9,
   "metadata": {},
   "outputs": [],
   "source": [
    "# Camera matrix\n",
    "camera_matrix = np.eye(3) # asume the center is in the upright corner and focal distance is 1 m\n",
    "# f = images_list[0].shape[1]\n",
    "# camera_matrix = np.array([[  f,   0,  images_list[0].shape[1]//2],\n",
    "#                           [  0,   f,  images_list[0].shape[0]//2],\n",
    "#                           [  0,   0,  1],])\n",
    "\n",
    "ransac_threshold = 0.01\n",
    "\n",
    "reproj_E_masks_list = []\n",
    "masked_matches_list = []\n",
    "\n",
    "for i in range(n_images - 1):\n",
    "    src_points = np.array([kps_des_list[i]['kps'][m.queryIdx].pt for m in matches_list[i]], dtype='float32')\n",
    "    dst_points = np.array([kps_des_list[i+1]['kps'][m.trainIdx].pt for m in matches_list[i]], dtype='float32') \n",
    "    E, mask = cv.findEssentialMat(src_points, dst_points, camera_matrix, method=cv.RANSAC, threshold=ransac_threshold, maxIters=5000)\n",
    "    reproj_E_masks_list.append({\"E\": E, \n",
    "                                \"mask\": mask})\n",
    "    # mask matches from reprojection error\n",
    "    masked_matches = []\n",
    "    for i_match in range(len(matches_list[i])):\n",
    "        if mask[i_match] == 1:\n",
    "            masked_matches.append(matches_list[i][i_match])\n",
    "    masked_matches_list.append(masked_matches)\n"
   ]
  },
  {
   "cell_type": "markdown",
   "metadata": {},
   "source": [
    "### Display matches after removing outliers"
   ]
  },
  {
   "cell_type": "code",
   "execution_count": 10,
   "metadata": {},
   "outputs": [
    {
     "name": "stdout",
     "output_type": "stream",
     "text": [
      "[20]\n"
     ]
    }
   ],
   "source": [
    "for i, matches in enumerate(matches_list):            \n",
    "    im = cv.drawMatches(images_list[i], kps_des_list[i]['kps'], images_list[i+1], kps_des_list[i+1]['kps'], \n",
    "                        masked_matches_list[i], \n",
    "                        im, \n",
    "                        flags=cv.DrawMatchesFlags_NOT_DRAW_SINGLE_POINTS)\n",
    "    cv.imshow('Press Esc to stop', im)\n",
    "    key = cv.waitKey(0)\n",
    "    if key == 27:\n",
    "        break\n",
    "cv.destroyAllWindows()\n",
    "\n",
    "print([len(item) for item in masked_matches_list])"
   ]
  },
  {
   "cell_type": "markdown",
   "metadata": {},
   "source": [
    "## Camera relative poses estimation"
   ]
  },
  {
   "cell_type": "code",
   "execution_count": 11,
   "metadata": {},
   "outputs": [],
   "source": [
    "\n",
    "R_list, t_list = [], []\n",
    "for i in range(n_images - 1):\n",
    "    src_points = np.array([kps_des_list[i]['kps'][m.queryIdx].pt for m in matches_list[i]], dtype='float32')\n",
    "    dst_points = np.array([kps_des_list[i+1]['kps'][m.trainIdx].pt for m in matches_list[i]], dtype='float32')\n",
    "    retval, R, t, mask = cv.recoverPose(\n",
    "        E=reproj_E_masks_list[i]['E'],\n",
    "        points1=src_points, points2=dst_points, \n",
    "        mask=reproj_E_masks_list[i]['mask'], \n",
    "        cameraMatrix=camera_matrix)\n",
    "    R_list.append(R)\n",
    "    t_list.append(t)\n"
   ]
  },
  {
   "cell_type": "markdown",
   "metadata": {},
   "source": [
    "# Triangulate points"
   ]
  },
  {
   "cell_type": "code",
   "execution_count": 13,
   "metadata": {},
   "outputs": [],
   "source": [
    "points_3d_list = []\n",
    "for i in range(n_images - 1):\n",
    "    src_points = np.array([kps_des_list[i]['kps'][m.queryIdx].pt for m in masked_matches_list[i]], dtype='float')\n",
    "    dst_points = np.array([kps_des_list[i+1]['kps'][m.trainIdx].pt for m in masked_matches_list[i]], dtype='float')\n",
    "    \n",
    "    projection_matrix1 = np.hstack((np.eye(3), np.zeros((3, 1))))\n",
    "    projection_matrix2 = np.hstack((R_list[i], t_list[i]))\n",
    "    \n",
    "    points_4d = cv.triangulatePoints(projection_matrix1, projection_matrix2, src_points.T, dst_points.T)\n",
    "\n",
    "    points_4d_homogeneous = points_4d.T / points_4d.T[:, 3].reshape((-1, 1))\n",
    "\n",
    "    points_3d = cv.convertPointsFromHomogeneous(points_4d_homogeneous).reshape((-1,3))\n",
    "    points_3d_list.append(points_3d)\n",
    "\n",
    "points_3d_arr = np.vstack(points_3d_list)\n"
   ]
  },
  {
   "cell_type": "markdown",
   "metadata": {},
   "source": [
    "### Remove outliers and plot!"
   ]
  },
  {
   "cell_type": "code",
   "execution_count": 14,
   "metadata": {},
   "outputs": [
    {
     "name": "stdout",
     "output_type": "stream",
     "text": [
      "Showing only (17, 3) of (20, 3) points\n"
     ]
    },
    {
     "data": {
      "application/vnd.plotly.v1+json": {
       "config": {
        "plotlyServerURL": "https://plot.ly"
       },
       "data": [
        {
         "hovertemplate": "x=%{x}<br>y=%{y}<br>z=%{z}<extra></extra>",
         "legendgroup": "",
         "marker": {
          "color": "#636efa",
          "symbol": "circle"
         },
         "mode": "markers",
         "name": "",
         "scene": "scene",
         "showlegend": false,
         "type": "scatter3d",
         "x": [
          20.522499200111852,
          15.998688575295422,
          44.61635410278648,
          71.27497296593074,
          71.27497296593074,
          19.463874266130674,
          20.165992881008926,
          35.96938552769834,
          32.010545148904555,
          33.24956787065527,
          42.59455544936836,
          39.90223545409674,
          36.16315468054616,
          58.10944541427631,
          58.10944541427631,
          58.10944541427631,
          105.29953164859906
         ],
         "y": [
          69.53331611935758,
          45.61937872260321,
          101.7885292827192,
          163.77584251602767,
          163.77584251602767,
          57.483575035419456,
          50.640966769311596,
          87.88827268802366,
          35.001902245556444,
          71.7208457326357,
          80.25152407791235,
          33.009971903592756,
          37.21797222756088,
          41.46267318546823,
          41.46267318546823,
          41.46267318546823,
          147.53818048306198
         ],
         "z": [
          0.23107075399244548,
          0.14568646665158505,
          0.3138003947248468,
          0.45084991434580857,
          0.45084991434580857,
          0.11241651512716166,
          0.11486566600783223,
          0.19689229460120986,
          0.1626218499602233,
          0.16698252833545507,
          0.20778550644886934,
          0.17601354694307905,
          0.1565335333689923,
          0.20689298826746658,
          0.20689298826746658,
          0.20689298826746658,
          0.35683823000170856
         ]
        }
       ],
       "layout": {
        "legend": {
         "tracegroupgap": 0
        },
        "margin": {
         "t": 60
        },
        "scene": {
         "domain": {
          "x": [
           0,
           1
          ],
          "y": [
           0,
           1
          ]
         },
         "xaxis": {
          "title": {
           "text": "x"
          }
         },
         "yaxis": {
          "title": {
           "text": "y"
          }
         },
         "zaxis": {
          "title": {
           "text": "z"
          }
         }
        },
        "template": {
         "data": {
          "bar": [
           {
            "error_x": {
             "color": "#2a3f5f"
            },
            "error_y": {
             "color": "#2a3f5f"
            },
            "marker": {
             "line": {
              "color": "#E5ECF6",
              "width": 0.5
             },
             "pattern": {
              "fillmode": "overlay",
              "size": 10,
              "solidity": 0.2
             }
            },
            "type": "bar"
           }
          ],
          "barpolar": [
           {
            "marker": {
             "line": {
              "color": "#E5ECF6",
              "width": 0.5
             },
             "pattern": {
              "fillmode": "overlay",
              "size": 10,
              "solidity": 0.2
             }
            },
            "type": "barpolar"
           }
          ],
          "carpet": [
           {
            "aaxis": {
             "endlinecolor": "#2a3f5f",
             "gridcolor": "white",
             "linecolor": "white",
             "minorgridcolor": "white",
             "startlinecolor": "#2a3f5f"
            },
            "baxis": {
             "endlinecolor": "#2a3f5f",
             "gridcolor": "white",
             "linecolor": "white",
             "minorgridcolor": "white",
             "startlinecolor": "#2a3f5f"
            },
            "type": "carpet"
           }
          ],
          "choropleth": [
           {
            "colorbar": {
             "outlinewidth": 0,
             "ticks": ""
            },
            "type": "choropleth"
           }
          ],
          "contour": [
           {
            "colorbar": {
             "outlinewidth": 0,
             "ticks": ""
            },
            "colorscale": [
             [
              0,
              "#0d0887"
             ],
             [
              0.1111111111111111,
              "#46039f"
             ],
             [
              0.2222222222222222,
              "#7201a8"
             ],
             [
              0.3333333333333333,
              "#9c179e"
             ],
             [
              0.4444444444444444,
              "#bd3786"
             ],
             [
              0.5555555555555556,
              "#d8576b"
             ],
             [
              0.6666666666666666,
              "#ed7953"
             ],
             [
              0.7777777777777778,
              "#fb9f3a"
             ],
             [
              0.8888888888888888,
              "#fdca26"
             ],
             [
              1,
              "#f0f921"
             ]
            ],
            "type": "contour"
           }
          ],
          "contourcarpet": [
           {
            "colorbar": {
             "outlinewidth": 0,
             "ticks": ""
            },
            "type": "contourcarpet"
           }
          ],
          "heatmap": [
           {
            "colorbar": {
             "outlinewidth": 0,
             "ticks": ""
            },
            "colorscale": [
             [
              0,
              "#0d0887"
             ],
             [
              0.1111111111111111,
              "#46039f"
             ],
             [
              0.2222222222222222,
              "#7201a8"
             ],
             [
              0.3333333333333333,
              "#9c179e"
             ],
             [
              0.4444444444444444,
              "#bd3786"
             ],
             [
              0.5555555555555556,
              "#d8576b"
             ],
             [
              0.6666666666666666,
              "#ed7953"
             ],
             [
              0.7777777777777778,
              "#fb9f3a"
             ],
             [
              0.8888888888888888,
              "#fdca26"
             ],
             [
              1,
              "#f0f921"
             ]
            ],
            "type": "heatmap"
           }
          ],
          "heatmapgl": [
           {
            "colorbar": {
             "outlinewidth": 0,
             "ticks": ""
            },
            "colorscale": [
             [
              0,
              "#0d0887"
             ],
             [
              0.1111111111111111,
              "#46039f"
             ],
             [
              0.2222222222222222,
              "#7201a8"
             ],
             [
              0.3333333333333333,
              "#9c179e"
             ],
             [
              0.4444444444444444,
              "#bd3786"
             ],
             [
              0.5555555555555556,
              "#d8576b"
             ],
             [
              0.6666666666666666,
              "#ed7953"
             ],
             [
              0.7777777777777778,
              "#fb9f3a"
             ],
             [
              0.8888888888888888,
              "#fdca26"
             ],
             [
              1,
              "#f0f921"
             ]
            ],
            "type": "heatmapgl"
           }
          ],
          "histogram": [
           {
            "marker": {
             "pattern": {
              "fillmode": "overlay",
              "size": 10,
              "solidity": 0.2
             }
            },
            "type": "histogram"
           }
          ],
          "histogram2d": [
           {
            "colorbar": {
             "outlinewidth": 0,
             "ticks": ""
            },
            "colorscale": [
             [
              0,
              "#0d0887"
             ],
             [
              0.1111111111111111,
              "#46039f"
             ],
             [
              0.2222222222222222,
              "#7201a8"
             ],
             [
              0.3333333333333333,
              "#9c179e"
             ],
             [
              0.4444444444444444,
              "#bd3786"
             ],
             [
              0.5555555555555556,
              "#d8576b"
             ],
             [
              0.6666666666666666,
              "#ed7953"
             ],
             [
              0.7777777777777778,
              "#fb9f3a"
             ],
             [
              0.8888888888888888,
              "#fdca26"
             ],
             [
              1,
              "#f0f921"
             ]
            ],
            "type": "histogram2d"
           }
          ],
          "histogram2dcontour": [
           {
            "colorbar": {
             "outlinewidth": 0,
             "ticks": ""
            },
            "colorscale": [
             [
              0,
              "#0d0887"
             ],
             [
              0.1111111111111111,
              "#46039f"
             ],
             [
              0.2222222222222222,
              "#7201a8"
             ],
             [
              0.3333333333333333,
              "#9c179e"
             ],
             [
              0.4444444444444444,
              "#bd3786"
             ],
             [
              0.5555555555555556,
              "#d8576b"
             ],
             [
              0.6666666666666666,
              "#ed7953"
             ],
             [
              0.7777777777777778,
              "#fb9f3a"
             ],
             [
              0.8888888888888888,
              "#fdca26"
             ],
             [
              1,
              "#f0f921"
             ]
            ],
            "type": "histogram2dcontour"
           }
          ],
          "mesh3d": [
           {
            "colorbar": {
             "outlinewidth": 0,
             "ticks": ""
            },
            "type": "mesh3d"
           }
          ],
          "parcoords": [
           {
            "line": {
             "colorbar": {
              "outlinewidth": 0,
              "ticks": ""
             }
            },
            "type": "parcoords"
           }
          ],
          "pie": [
           {
            "automargin": true,
            "type": "pie"
           }
          ],
          "scatter": [
           {
            "fillpattern": {
             "fillmode": "overlay",
             "size": 10,
             "solidity": 0.2
            },
            "type": "scatter"
           }
          ],
          "scatter3d": [
           {
            "line": {
             "colorbar": {
              "outlinewidth": 0,
              "ticks": ""
             }
            },
            "marker": {
             "colorbar": {
              "outlinewidth": 0,
              "ticks": ""
             }
            },
            "type": "scatter3d"
           }
          ],
          "scattercarpet": [
           {
            "marker": {
             "colorbar": {
              "outlinewidth": 0,
              "ticks": ""
             }
            },
            "type": "scattercarpet"
           }
          ],
          "scattergeo": [
           {
            "marker": {
             "colorbar": {
              "outlinewidth": 0,
              "ticks": ""
             }
            },
            "type": "scattergeo"
           }
          ],
          "scattergl": [
           {
            "marker": {
             "colorbar": {
              "outlinewidth": 0,
              "ticks": ""
             }
            },
            "type": "scattergl"
           }
          ],
          "scattermapbox": [
           {
            "marker": {
             "colorbar": {
              "outlinewidth": 0,
              "ticks": ""
             }
            },
            "type": "scattermapbox"
           }
          ],
          "scatterpolar": [
           {
            "marker": {
             "colorbar": {
              "outlinewidth": 0,
              "ticks": ""
             }
            },
            "type": "scatterpolar"
           }
          ],
          "scatterpolargl": [
           {
            "marker": {
             "colorbar": {
              "outlinewidth": 0,
              "ticks": ""
             }
            },
            "type": "scatterpolargl"
           }
          ],
          "scatterternary": [
           {
            "marker": {
             "colorbar": {
              "outlinewidth": 0,
              "ticks": ""
             }
            },
            "type": "scatterternary"
           }
          ],
          "surface": [
           {
            "colorbar": {
             "outlinewidth": 0,
             "ticks": ""
            },
            "colorscale": [
             [
              0,
              "#0d0887"
             ],
             [
              0.1111111111111111,
              "#46039f"
             ],
             [
              0.2222222222222222,
              "#7201a8"
             ],
             [
              0.3333333333333333,
              "#9c179e"
             ],
             [
              0.4444444444444444,
              "#bd3786"
             ],
             [
              0.5555555555555556,
              "#d8576b"
             ],
             [
              0.6666666666666666,
              "#ed7953"
             ],
             [
              0.7777777777777778,
              "#fb9f3a"
             ],
             [
              0.8888888888888888,
              "#fdca26"
             ],
             [
              1,
              "#f0f921"
             ]
            ],
            "type": "surface"
           }
          ],
          "table": [
           {
            "cells": {
             "fill": {
              "color": "#EBF0F8"
             },
             "line": {
              "color": "white"
             }
            },
            "header": {
             "fill": {
              "color": "#C8D4E3"
             },
             "line": {
              "color": "white"
             }
            },
            "type": "table"
           }
          ]
         },
         "layout": {
          "annotationdefaults": {
           "arrowcolor": "#2a3f5f",
           "arrowhead": 0,
           "arrowwidth": 1
          },
          "autotypenumbers": "strict",
          "coloraxis": {
           "colorbar": {
            "outlinewidth": 0,
            "ticks": ""
           }
          },
          "colorscale": {
           "diverging": [
            [
             0,
             "#8e0152"
            ],
            [
             0.1,
             "#c51b7d"
            ],
            [
             0.2,
             "#de77ae"
            ],
            [
             0.3,
             "#f1b6da"
            ],
            [
             0.4,
             "#fde0ef"
            ],
            [
             0.5,
             "#f7f7f7"
            ],
            [
             0.6,
             "#e6f5d0"
            ],
            [
             0.7,
             "#b8e186"
            ],
            [
             0.8,
             "#7fbc41"
            ],
            [
             0.9,
             "#4d9221"
            ],
            [
             1,
             "#276419"
            ]
           ],
           "sequential": [
            [
             0,
             "#0d0887"
            ],
            [
             0.1111111111111111,
             "#46039f"
            ],
            [
             0.2222222222222222,
             "#7201a8"
            ],
            [
             0.3333333333333333,
             "#9c179e"
            ],
            [
             0.4444444444444444,
             "#bd3786"
            ],
            [
             0.5555555555555556,
             "#d8576b"
            ],
            [
             0.6666666666666666,
             "#ed7953"
            ],
            [
             0.7777777777777778,
             "#fb9f3a"
            ],
            [
             0.8888888888888888,
             "#fdca26"
            ],
            [
             1,
             "#f0f921"
            ]
           ],
           "sequentialminus": [
            [
             0,
             "#0d0887"
            ],
            [
             0.1111111111111111,
             "#46039f"
            ],
            [
             0.2222222222222222,
             "#7201a8"
            ],
            [
             0.3333333333333333,
             "#9c179e"
            ],
            [
             0.4444444444444444,
             "#bd3786"
            ],
            [
             0.5555555555555556,
             "#d8576b"
            ],
            [
             0.6666666666666666,
             "#ed7953"
            ],
            [
             0.7777777777777778,
             "#fb9f3a"
            ],
            [
             0.8888888888888888,
             "#fdca26"
            ],
            [
             1,
             "#f0f921"
            ]
           ]
          },
          "colorway": [
           "#636efa",
           "#EF553B",
           "#00cc96",
           "#ab63fa",
           "#FFA15A",
           "#19d3f3",
           "#FF6692",
           "#B6E880",
           "#FF97FF",
           "#FECB52"
          ],
          "font": {
           "color": "#2a3f5f"
          },
          "geo": {
           "bgcolor": "white",
           "lakecolor": "white",
           "landcolor": "#E5ECF6",
           "showlakes": true,
           "showland": true,
           "subunitcolor": "white"
          },
          "hoverlabel": {
           "align": "left"
          },
          "hovermode": "closest",
          "mapbox": {
           "style": "light"
          },
          "paper_bgcolor": "white",
          "plot_bgcolor": "#E5ECF6",
          "polar": {
           "angularaxis": {
            "gridcolor": "white",
            "linecolor": "white",
            "ticks": ""
           },
           "bgcolor": "#E5ECF6",
           "radialaxis": {
            "gridcolor": "white",
            "linecolor": "white",
            "ticks": ""
           }
          },
          "scene": {
           "xaxis": {
            "backgroundcolor": "#E5ECF6",
            "gridcolor": "white",
            "gridwidth": 2,
            "linecolor": "white",
            "showbackground": true,
            "ticks": "",
            "zerolinecolor": "white"
           },
           "yaxis": {
            "backgroundcolor": "#E5ECF6",
            "gridcolor": "white",
            "gridwidth": 2,
            "linecolor": "white",
            "showbackground": true,
            "ticks": "",
            "zerolinecolor": "white"
           },
           "zaxis": {
            "backgroundcolor": "#E5ECF6",
            "gridcolor": "white",
            "gridwidth": 2,
            "linecolor": "white",
            "showbackground": true,
            "ticks": "",
            "zerolinecolor": "white"
           }
          },
          "shapedefaults": {
           "line": {
            "color": "#2a3f5f"
           }
          },
          "ternary": {
           "aaxis": {
            "gridcolor": "white",
            "linecolor": "white",
            "ticks": ""
           },
           "baxis": {
            "gridcolor": "white",
            "linecolor": "white",
            "ticks": ""
           },
           "bgcolor": "#E5ECF6",
           "caxis": {
            "gridcolor": "white",
            "linecolor": "white",
            "ticks": ""
           }
          },
          "title": {
           "x": 0.05
          },
          "xaxis": {
           "automargin": true,
           "gridcolor": "white",
           "linecolor": "white",
           "ticks": "",
           "title": {
            "standoff": 15
           },
           "zerolinecolor": "white",
           "zerolinewidth": 2
          },
          "yaxis": {
           "automargin": true,
           "gridcolor": "white",
           "linecolor": "white",
           "ticks": "",
           "title": {
            "standoff": 15
           },
           "zerolinecolor": "white",
           "zerolinewidth": 2
          }
         }
        }
       }
      }
     },
     "metadata": {},
     "output_type": "display_data"
    }
   ],
   "source": [
    "import plotly.express as px\n",
    "import pandas as pd\n",
    "\n",
    "n_std = 1\n",
    "\n",
    "center = np.mean(points_3d_arr, axis=0)\n",
    "radius_display = np.std(points_3d_arr)*n_std\n",
    "\n",
    "points_3d_arr_outliers_removed = np.array(\n",
    "    [point for point in points_3d_arr if (np.sqrt(np.sum((point - center)**2)) < radius_display)]).reshape((-1, 3))\n",
    "\n",
    "print(f\"Showing only {points_3d_arr_outliers_removed.shape} of {points_3d_arr.shape} points\")\n",
    "\n",
    "df = pd.DataFrame(columns=['x', 'y', 'z'], data=points_3d_arr_outliers_removed)\n",
    "fig = px.scatter_3d(df, x='x', y='y', z='z')\n",
    "fig.show()"
   ]
  }
 ],
 "metadata": {
  "kernelspec": {
   "display_name": "car_models",
   "language": "python",
   "name": "python3"
  },
  "language_info": {
   "codemirror_mode": {
    "name": "ipython",
    "version": 3
   },
   "file_extension": ".py",
   "mimetype": "text/x-python",
   "name": "python",
   "nbconvert_exporter": "python",
   "pygments_lexer": "ipython3",
   "version": "3.8.10"
  }
 },
 "nbformat": 4,
 "nbformat_minor": 2
}
