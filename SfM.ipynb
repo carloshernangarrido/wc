{
 "cells": [
  {
   "cell_type": "markdown",
   "metadata": {},
   "source": [
    "# Structure from motion example using a video"
   ]
  },
  {
   "cell_type": "code",
   "execution_count": 2,
   "metadata": {},
   "outputs": [],
   "source": [
    "# Packages\n",
    "import numpy as np\n",
    "import cv2 as cv"
   ]
  },
  {
   "cell_type": "markdown",
   "metadata": {},
   "source": [
    "## Load video and extract grey-scale images"
   ]
  },
  {
   "cell_type": "code",
   "execution_count": 3,
   "metadata": {},
   "outputs": [],
   "source": [
    "video_file = r\"C:\\Fotos y videos\\test SfM\\video1.mp4\"\n",
    "video = cv.VideoCapture(video_file)\n",
    "\n",
    "delta_t = 100 # ms"
   ]
  },
  {
   "cell_type": "code",
   "execution_count": 4,
   "metadata": {},
   "outputs": [],
   "source": [
    "ret = True\n",
    "current_time_ms = 0\n",
    "\n",
    "images_list = []\n",
    "while ret:\n",
    "    video.set(cv.CAP_PROP_POS_MSEC, current_time_ms)\n",
    "    ret, frame = video.read()\n",
    "    key = cv.waitKey(0)\n",
    "    if key == 27 or ret is False:\n",
    "        break\n",
    "    cv.imshow('press esc to stop', frame)\n",
    "    images_list.append(cv.cvtColor(frame, cv.COLOR_BGR2GRAY))\n",
    "    current_time_ms += delta_t\n",
    "\n",
    "cv.destroyAllWindows()"
   ]
  },
  {
   "cell_type": "markdown",
   "metadata": {},
   "source": [
    "### Display loaded images"
   ]
  },
  {
   "cell_type": "code",
   "execution_count": 5,
   "metadata": {},
   "outputs": [],
   "source": [
    "for im in images_list:\n",
    "    cv.imshow('Press Esc to stop', im)\n",
    "    key = cv.waitKey(0)\n",
    "    if key == 27:\n",
    "        break\n",
    "cv.destroyAllWindows()"
   ]
  },
  {
   "cell_type": "markdown",
   "metadata": {},
   "source": [
    "## Extract image descriptos"
   ]
  },
  {
   "cell_type": "code",
   "execution_count": 6,
   "metadata": {},
   "outputs": [],
   "source": [
    "sift = cv.SIFT_create()\n",
    "kps_des_list = []\n",
    "for im in images_list:\n",
    "    kps, descriptors = sift.detectAndCompute(im, None) # No mask\n",
    "    kps_des_list.append({'kps': kps,\n",
    "                         'des': descriptors})\n",
    "    "
   ]
  },
  {
   "cell_type": "markdown",
   "metadata": {},
   "source": [
    "### Display found descriptors"
   ]
  },
  {
   "cell_type": "code",
   "execution_count": 7,
   "metadata": {},
   "outputs": [],
   "source": [
    "for im, des_kps in zip(images_list, kps_des_list):\n",
    "    im = cv.drawKeypoints(im, des_kps['kps'], im)\n",
    "    cv.imshow('Press Esc to stop', im)\n",
    "    key = cv.waitKey(0)\n",
    "    if key == 27:\n",
    "        break\n",
    "cv.destroyAllWindows()"
   ]
  },
  {
   "cell_type": "markdown",
   "metadata": {},
   "source": [
    "## Match found descriptos using k-nearest neighbours"
   ]
  },
  {
   "cell_type": "code",
   "execution_count": 8,
   "metadata": {},
   "outputs": [],
   "source": [
    "# ratio of the nearest to the second nearest neighbour\n",
    "ratio = 0.75\n",
    "\n",
    "n_images = len(images_list)\n",
    "matcher = cv.BFMatcher()\n",
    "\n",
    "matches_list = []\n",
    "\n",
    "for i in range(n_images - 1):\n",
    "    good_matches = []\n",
    "    matches = matcher.knnMatch(kps_des_list[i]['des'], kps_des_list[i+1]['des'], k=2)\n",
    "    for m, n in matches:\n",
    "        if m.distance < ratio*n.distance:\n",
    "            good_matches.append(m)\n",
    "    matches_list.append(good_matches)"
   ]
  },
  {
   "cell_type": "markdown",
   "metadata": {},
   "source": [
    "### display good matches"
   ]
  },
  {
   "cell_type": "code",
   "execution_count": 9,
   "metadata": {},
   "outputs": [],
   "source": [
    "for i, matches in enumerate(matches_list):\n",
    "    im = cv.drawMatches(images_list[i], kps_des_list[i]['kps'], images_list[i+1], kps_des_list[i+1]['kps'], matches, im, \n",
    "                        flags=cv.DrawMatchesFlags_NOT_DRAW_SINGLE_POINTS)\n",
    "    cv.imshow('Press Esc to stop', im)\n",
    "    key = cv.waitKey(0)\n",
    "    if key == 27:\n",
    "        break\n",
    "cv.destroyAllWindows()"
   ]
  },
  {
   "cell_type": "markdown",
   "metadata": {},
   "source": [
    "## Fundamental matrices estimation using RANSAC"
   ]
  },
  {
   "cell_type": "code",
   "execution_count": 38,
   "metadata": {},
   "outputs": [],
   "source": [
    "reproj_fundmat_masks_list = []\n",
    "masked_matches_list = []\n",
    "\n",
    "for i in range(n_images - 1):\n",
    "    src_points = np.array([kps_des_list[i]['kps'][m.queryIdx].pt for m in matches_list[i]], dtype='float32')\n",
    "    dst_points = np.array([kps_des_list[i+1]['kps'][m.trainIdx].pt for m in matches_list[i]], dtype='float32') \n",
    "    fundamental_matrix, mask = cv.findFundamentalMat(src_points, dst_points, method=cv.FM_RANSAC, ransacReprojThreshold=.01)\n",
    "    reproj_fundmat_masks_list.append({\"fundamental_matrix\": fundamental_matrix, \n",
    "                                      \"mask\": mask})\n",
    "    # mask matches from reprojection error\n",
    "    masked_matches = []\n",
    "    for i_match in range(len(matches_list[i])):\n",
    "        if mask[i_match] == 1:\n",
    "            masked_matches.append(matches_list[i][i_match])\n",
    "    masked_matches_list.append(masked_matches)\n"
   ]
  },
  {
   "cell_type": "markdown",
   "metadata": {},
   "source": [
    "### Display matches after removing outliers"
   ]
  },
  {
   "cell_type": "code",
   "execution_count": 39,
   "metadata": {},
   "outputs": [],
   "source": [
    "for i, matches in enumerate(matches_list):            \n",
    "    im = cv.drawMatches(images_list[i], kps_des_list[i]['kps'], images_list[i+1], kps_des_list[i+1]['kps'], \n",
    "                        masked_matches_list[i], \n",
    "                        im, \n",
    "                        flags=cv.DrawMatchesFlags_NOT_DRAW_SINGLE_POINTS)\n",
    "    cv.imshow('Press Esc to stop', im)\n",
    "    key = cv.waitKey(0)\n",
    "    if key == 27:\n",
    "        break\n",
    "cv.destroyAllWindows()"
   ]
  }
 ],
 "metadata": {
  "kernelspec": {
   "display_name": "car_models",
   "language": "python",
   "name": "python3"
  },
  "language_info": {
   "codemirror_mode": {
    "name": "ipython",
    "version": 3
   },
   "file_extension": ".py",
   "mimetype": "text/x-python",
   "name": "python",
   "nbconvert_exporter": "python",
   "pygments_lexer": "ipython3",
   "version": "3.8.10"
  }
 },
 "nbformat": 4,
 "nbformat_minor": 2
}
