{
 "cells": [
  {
   "cell_type": "code",
   "execution_count": 40,
   "metadata": {},
   "outputs": [
    {
     "name": "stdout",
     "output_type": "stream",
     "text": [
      "Metric: inf\n",
      "Different content!\n"
     ]
    }
   ],
   "source": [
    "import cv2\n",
    "import numpy as np\n",
    "\n",
    "threshold = 10000\n",
    "min_matches = 10\n",
    "\n",
    "\n",
    "# Load images\n",
    "img1 = cv2.imread('im1.jpg', cv2.IMREAD_GRAYSCALE)\n",
    "img2 = cv2.imread('im3.jpg', cv2.IMREAD_GRAYSCALE)\n",
    "\n",
    "# Create SIFT detector\n",
    "sift = cv2.SIFT_create()\n",
    "\n",
    "# Detect keypoints and compute descriptors\n",
    "keypoints1, descriptors1 = sift.detectAndCompute(img1, None)\n",
    "keypoints2, descriptors2 = sift.detectAndCompute(img2, None)\n",
    "\n",
    "# Create a matcher\n",
    "bf = cv2.FlannBasedMatcher()\n",
    "\n",
    "# Match descriptors\n",
    "matches = bf.knnMatch(descriptors1, descriptors2, k=2)\n",
    "\n",
    "# Apply ratio test to filter good matches\n",
    "good_matches = []\n",
    "for m, n in matches:\n",
    "    if m.distance < 0.75 * n.distance:\n",
    "        good_matches.append(m)\n",
    "\n",
    "# Draw matches on images\n",
    "img_matches = cv2.drawMatches(img1, keypoints1, img2, keypoints2, good_matches, None, flags=cv2.DrawMatchesFlags_NOT_DRAW_SINGLE_POINTS)\n",
    "\n",
    "# Calculate a metric\n",
    "if len(good_matches) < min_matches:\n",
    "    metric = np.inf\n",
    "else:\n",
    "    metric_vector = np.array(sorted([_.distance for _ in good_matches])[:min_matches])\n",
    "    metric = np.sum(metric_vector)\n",
    "print(f'Metric: {metric}')\n",
    "\n",
    "if metric < threshold:\n",
    "    print('Same content!')\n",
    "else:\n",
    "    print('Different content!')\n",
    "\n",
    "# Display the result\n",
    "cv2.imshow('Matches', img_matches)\n",
    "cv2.waitKey(0)\n",
    "cv2.destroyAllWindows()"
   ]
  }
 ],
 "metadata": {
  "kernelspec": {
   "display_name": "car_models",
   "language": "python",
   "name": "python3"
  },
  "language_info": {
   "codemirror_mode": {
    "name": "ipython",
    "version": 3
   },
   "file_extension": ".py",
   "mimetype": "text/x-python",
   "name": "python",
   "nbconvert_exporter": "python",
   "pygments_lexer": "ipython3",
   "version": "3.8.10"
  }
 },
 "nbformat": 4,
 "nbformat_minor": 2
}
