{
 "cells": [
  {
   "cell_type": "code",
   "execution_count": 9,
   "metadata": {},
   "outputs": [],
   "source": [
    "import cv2\n",
    "import numpy as np\n",
    "import itertools"
   ]
  },
  {
   "cell_type": "markdown",
   "metadata": {},
   "source": [
    "# Comparator"
   ]
  },
  {
   "cell_type": "code",
   "execution_count": 19,
   "metadata": {},
   "outputs": [],
   "source": [
    "def image_comparator(img1: np.array, img2: np.array, min_matches: int = 10, threshold: float = 10000):\n",
    "    # Create SIFT detector\n",
    "    sift = cv2.SIFT_create()\n",
    "\n",
    "    # Detect keypoints and compute descriptors\n",
    "    keypoints1, descriptors1 = sift.detectAndCompute(img1, None)\n",
    "    keypoints2, descriptors2 = sift.detectAndCompute(img2, None)\n",
    "\n",
    "    # Create a matcher\n",
    "    bf = cv2.FlannBasedMatcher()\n",
    "\n",
    "    # Match descriptors\n",
    "    matches = bf.knnMatch(descriptors1, descriptors2, k=2)\n",
    "\n",
    "    # Apply ratio test to filter good matches\n",
    "    good_matches = []\n",
    "    for m, n in matches:\n",
    "        if m.distance < 0.75 * n.distance:\n",
    "            good_matches.append(m)\n",
    "\n",
    "    # Draw matches on images\n",
    "    img_matches = cv2.drawMatches(img1, keypoints1, img2, keypoints2, good_matches, None, flags=cv2.DrawMatchesFlags_NOT_DRAW_SINGLE_POINTS)\n",
    "\n",
    "    # Calculate a metric\n",
    "    if len(good_matches) < min_matches:\n",
    "        metric = np.inf\n",
    "    else:\n",
    "        metric_vector = np.array(sorted([_.distance for _ in good_matches])[:min_matches])\n",
    "        metric = np.sum(metric_vector)\n",
    "    print(f'Metric: {metric}')\n",
    "\n",
    "    if metric < threshold:\n",
    "        result = 'Same content!'\n",
    "    else:\n",
    "        result = 'Different content!'\n",
    "\n",
    "    return metric, result, img_matches"
   ]
  },
  {
   "cell_type": "markdown",
   "metadata": {},
   "source": [
    "# Tests"
   ]
  },
  {
   "cell_type": "code",
   "execution_count": 26,
   "metadata": {},
   "outputs": [
    {
     "name": "stdout",
     "output_type": "stream",
     "text": [
      "Metric: 1510.5354232788086\n",
      "Metric: 1893.7763977050781\n",
      "Metric: 1649.1280670166016\n",
      "Metric: 1454.1546020507812\n",
      "Metric: inf\n",
      "Metric: inf\n",
      "Metric: inf\n",
      "Metric: inf\n",
      "Metric: inf\n",
      "Metric: 712.1823463439941\n"
     ]
    }
   ],
   "source": [
    "resolution = (640, 480)\n",
    "# Load images\n",
    "img1 = cv2.resize(cv2.imread('im1.jpg', cv2.IMREAD_GRAYSCALE), resolution)\n",
    "img2 = cv2.resize(cv2.imread('im2.jpg', cv2.IMREAD_GRAYSCALE), resolution)\n",
    "img3 = cv2.resize(cv2.imread('im3.jpg', cv2.IMREAD_GRAYSCALE), resolution)\n",
    "img4 = cv2.resize(cv2.imread('IMG_20220214_133333313.jpg', cv2.IMREAD_GRAYSCALE), resolution)\n",
    "img5 = cv2.resize(cv2.imread('IMG_20220214_144907525.jpg', cv2.IMREAD_GRAYSCALE), resolution)\n",
    "\n",
    "for img_test_1, img_test_2 in itertools.combinations([img1, img2, img3, img4, img5], 2):\n",
    "    metric, result, img_matches = image_comparator(img_test_1, img_test_2, threshold=1600)\n",
    "\n",
    "    # print(result)\n",
    "    # Display the result\n",
    "    cv2.imshow(result + '. Press any key to continue', img_matches)\n",
    "    cv2.waitKey(0)\n",
    "    cv2.destroyAllWindows()"
   ]
  }
 ],
 "metadata": {
  "kernelspec": {
   "display_name": "car_models",
   "language": "python",
   "name": "python3"
  },
  "language_info": {
   "codemirror_mode": {
    "name": "ipython",
    "version": 3
   },
   "file_extension": ".py",
   "mimetype": "text/x-python",
   "name": "python",
   "nbconvert_exporter": "python",
   "pygments_lexer": "ipython3",
   "version": "3.8.10"
  }
 },
 "nbformat": 4,
 "nbformat_minor": 2
}
